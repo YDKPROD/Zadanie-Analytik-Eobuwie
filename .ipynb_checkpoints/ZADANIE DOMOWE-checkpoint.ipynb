{
 "cells": [
  {
   "cell_type": "markdown",
   "metadata": {},
   "source": [
    "#### ZADANIE 1"
   ]
  },
  {
   "cell_type": "markdown",
   "metadata": {},
   "source": [
    "###### Do zadania załączone są 3 pliki CSV:\n",
    "    • Zamówienia\n",
    "    • Cena bazowa\n",
    "    • Wysłane\n",
    "    W pliku zamówienia są informacje o zamówieniach klientów w wybranym okresie. \n",
    "    W pliku znajdują się kolumny: \n",
    "    • order_id – unikalny numer zamówienia\n",
    "    • client_id – unikalny numer klienta\n",
    "    • order_date – data złożenia zamówienia\n",
    "    • kupon – informacja o tym, czy podczas składania zamówienia klient użył kuponu rabatowego obniżającego cenę bazową; wartość kuponu to procent zniżki od ceny bazowej\n",
    "    W pliku Cena bazowa znajdują się informacje o cenie bazowej każdego z produktów.\n",
    "    W pliku Wysłane znajdują się informacje o produktach wysłanych ostatecznie do każdego zamówienia. W jednym zamówieniu mogło się znaleźć więcej niż 1 produkt. \n",
    "    Na podstawie załączonych danych odpowiedz na pytania:\n",
    "    1) W jakim dniu roku klienci złożyli najwięcej zamówień?\n",
    "    2) Ilu klientów skorzystało z kuponu rabatowego w trakcie zakupów?\n",
    "    3) Ilu klientów zrobiło w analizowanym okresie więcej niż jedno zamówienie?\n",
    "    4) Który z produktów cieszył się największym powodzeniem? Ilu klientów kupiło go ze zniżką?\n",
    "    5) Który produkt był najczęściej kupowany ze zniżką?\n",
    "    6) Jaka była końcowa wartość wszystkich zamówień w badanym okresie?\n",
    "    Proszę o przesłanie odpowiedzi na pytania i kodu R/ Python, który posłużył do ich wygenerowania."
   ]
  },
  {
   "cell_type": "code",
   "execution_count": 1,
   "metadata": {},
   "outputs": [],
   "source": [
    "import pandas as pd\n",
    "import numpy as np\n",
    "#import datasets\n",
    "df_zamow = pd.read_csv('zamowienia.csv', sep = ';')\n",
    "df_cena = pd.read_csv('cena bazowa.csv', sep =';')\n",
    "df_wyslane = pd.read_csv('wyslane.csv', sep = ';')"
   ]
  },
  {
   "cell_type": "code",
   "execution_count": 2,
   "metadata": {},
   "outputs": [
    {
     "data": {
      "text/html": [
       "<div>\n",
       "<style scoped>\n",
       "    .dataframe tbody tr th:only-of-type {\n",
       "        vertical-align: middle;\n",
       "    }\n",
       "\n",
       "    .dataframe tbody tr th {\n",
       "        vertical-align: top;\n",
       "    }\n",
       "\n",
       "    .dataframe thead th {\n",
       "        text-align: right;\n",
       "    }\n",
       "</style>\n",
       "<table border=\"1\" class=\"dataframe\">\n",
       "  <thead>\n",
       "    <tr style=\"text-align: right;\">\n",
       "      <th></th>\n",
       "      <th>order_id</th>\n",
       "      <th>client_id</th>\n",
       "      <th>order_date</th>\n",
       "      <th>KUPON</th>\n",
       "    </tr>\n",
       "  </thead>\n",
       "  <tbody>\n",
       "    <tr>\n",
       "      <th>0</th>\n",
       "      <td>1462414</td>\n",
       "      <td>523933015</td>\n",
       "      <td>29.06.2019</td>\n",
       "      <td>NaN</td>\n",
       "    </tr>\n",
       "    <tr>\n",
       "      <th>1</th>\n",
       "      <td>1538139</td>\n",
       "      <td>814107372</td>\n",
       "      <td>15.08.2019</td>\n",
       "      <td>NaN</td>\n",
       "    </tr>\n",
       "    <tr>\n",
       "      <th>2</th>\n",
       "      <td>1838871</td>\n",
       "      <td>713139458</td>\n",
       "      <td>19.08.2019</td>\n",
       "      <td>NaN</td>\n",
       "    </tr>\n",
       "    <tr>\n",
       "      <th>3</th>\n",
       "      <td>1896544</td>\n",
       "      <td>123641536</td>\n",
       "      <td>05.05.2019</td>\n",
       "      <td>15%</td>\n",
       "    </tr>\n",
       "    <tr>\n",
       "      <th>4</th>\n",
       "      <td>1943852</td>\n",
       "      <td>602252913</td>\n",
       "      <td>30.07.2019</td>\n",
       "      <td>NaN</td>\n",
       "    </tr>\n",
       "  </tbody>\n",
       "</table>\n",
       "</div>"
      ],
      "text/plain": [
       "   order_id  client_id  order_date KUPON\n",
       "0   1462414  523933015  29.06.2019   NaN\n",
       "1   1538139  814107372  15.08.2019   NaN\n",
       "2   1838871  713139458  19.08.2019   NaN\n",
       "3   1896544  123641536  05.05.2019   15%\n",
       "4   1943852  602252913  30.07.2019   NaN"
      ]
     },
     "execution_count": 2,
     "metadata": {},
     "output_type": "execute_result"
    }
   ],
   "source": [
    "df_zamow.head()"
   ]
  },
  {
   "cell_type": "code",
   "execution_count": 3,
   "metadata": {},
   "outputs": [],
   "source": [
    "#fill kupon column with 0 where NaN\n",
    "df_zamow['KUPON'] = df_zamow['KUPON'].fillna(0)"
   ]
  },
  {
   "cell_type": "code",
   "execution_count": 4,
   "metadata": {},
   "outputs": [],
   "source": [
    "#group by order_date to get the max order for a date\n",
    "count_per_date = pd.DataFrame(df_zamow.groupby('order_date').size(), columns = ['count'])"
   ]
  },
  {
   "cell_type": "code",
   "execution_count": 5,
   "metadata": {},
   "outputs": [],
   "source": [
    "#sort the value from the biggest => we can use also max here on column\n",
    "count_per_date = count_per_date.sort_values(by = 'count', ascending = False)"
   ]
  },
  {
   "cell_type": "code",
   "execution_count": 6,
   "metadata": {},
   "outputs": [
    {
     "data": {
      "text/plain": [
       "'14.08.2019'"
      ]
     },
     "execution_count": 6,
     "metadata": {},
     "output_type": "execute_result"
    }
   ],
   "source": [
    "#return the date with the biggest orders (answer 1)\n",
    "count_per_date.index[0]"
   ]
  },
  {
   "cell_type": "code",
   "execution_count": 7,
   "metadata": {},
   "outputs": [],
   "source": [
    "#retrieve kupon column whre different than 0\n",
    "kupon = df_zamow[df_zamow['KUPON'] != 0]"
   ]
  },
  {
   "cell_type": "code",
   "execution_count": 8,
   "metadata": {},
   "outputs": [
    {
     "data": {
      "text/html": [
       "<div>\n",
       "<style scoped>\n",
       "    .dataframe tbody tr th:only-of-type {\n",
       "        vertical-align: middle;\n",
       "    }\n",
       "\n",
       "    .dataframe tbody tr th {\n",
       "        vertical-align: top;\n",
       "    }\n",
       "\n",
       "    .dataframe thead th {\n",
       "        text-align: right;\n",
       "    }\n",
       "</style>\n",
       "<table border=\"1\" class=\"dataframe\">\n",
       "  <thead>\n",
       "    <tr style=\"text-align: right;\">\n",
       "      <th></th>\n",
       "      <th>order_id</th>\n",
       "      <th>client_id</th>\n",
       "      <th>order_date</th>\n",
       "      <th>KUPON</th>\n",
       "    </tr>\n",
       "  </thead>\n",
       "  <tbody>\n",
       "    <tr>\n",
       "      <th>3</th>\n",
       "      <td>1896544</td>\n",
       "      <td>123641536</td>\n",
       "      <td>05.05.2019</td>\n",
       "      <td>15%</td>\n",
       "    </tr>\n",
       "    <tr>\n",
       "      <th>5</th>\n",
       "      <td>2143538</td>\n",
       "      <td>563294140</td>\n",
       "      <td>08.04.2019</td>\n",
       "      <td>40%</td>\n",
       "    </tr>\n",
       "    <tr>\n",
       "      <th>23</th>\n",
       "      <td>4932443</td>\n",
       "      <td>314452019</td>\n",
       "      <td>31.03.2019</td>\n",
       "      <td>20%</td>\n",
       "    </tr>\n",
       "    <tr>\n",
       "      <th>25</th>\n",
       "      <td>5231560</td>\n",
       "      <td>649526055</td>\n",
       "      <td>19.07.2019</td>\n",
       "      <td>5%</td>\n",
       "    </tr>\n",
       "    <tr>\n",
       "      <th>26</th>\n",
       "      <td>6074529</td>\n",
       "      <td>849773609</td>\n",
       "      <td>08.07.2019</td>\n",
       "      <td>30%</td>\n",
       "    </tr>\n",
       "  </tbody>\n",
       "</table>\n",
       "</div>"
      ],
      "text/plain": [
       "    order_id  client_id  order_date KUPON\n",
       "3    1896544  123641536  05.05.2019   15%\n",
       "5    2143538  563294140  08.04.2019   40%\n",
       "23   4932443  314452019  31.03.2019   20%\n",
       "25   5231560  649526055  19.07.2019    5%\n",
       "26   6074529  849773609  08.07.2019   30%"
      ]
     },
     "execution_count": 8,
     "metadata": {},
     "output_type": "execute_result"
    }
   ],
   "source": [
    "kupon.head()"
   ]
  },
  {
   "cell_type": "code",
   "execution_count": 9,
   "metadata": {},
   "outputs": [
    {
     "data": {
      "text/plain": [
       "998"
      ]
     },
     "execution_count": 9,
     "metadata": {},
     "output_type": "execute_result"
    }
   ],
   "source": [
    "#check the client by their unique occurence in case someone made 2 orders (answer 2)\n",
    "len(kupon.client_id.unique())"
   ]
  },
  {
   "cell_type": "code",
   "execution_count": 10,
   "metadata": {},
   "outputs": [],
   "source": [
    "#create a DT with counting client id occurence in orders\n",
    "num_order_client = pd.DataFrame(df_zamow.groupby('client_id').size(), columns = ['count'])"
   ]
  },
  {
   "cell_type": "code",
   "execution_count": 11,
   "metadata": {},
   "outputs": [
    {
     "data": {
      "text/html": [
       "<div>\n",
       "<style scoped>\n",
       "    .dataframe tbody tr th:only-of-type {\n",
       "        vertical-align: middle;\n",
       "    }\n",
       "\n",
       "    .dataframe tbody tr th {\n",
       "        vertical-align: top;\n",
       "    }\n",
       "\n",
       "    .dataframe thead th {\n",
       "        text-align: right;\n",
       "    }\n",
       "</style>\n",
       "<table border=\"1\" class=\"dataframe\">\n",
       "  <thead>\n",
       "    <tr style=\"text-align: right;\">\n",
       "      <th></th>\n",
       "      <th>count</th>\n",
       "    </tr>\n",
       "    <tr>\n",
       "      <th>client_id</th>\n",
       "      <th></th>\n",
       "    </tr>\n",
       "  </thead>\n",
       "  <tbody>\n",
       "    <tr>\n",
       "      <th>107893</th>\n",
       "      <td>1</td>\n",
       "    </tr>\n",
       "    <tr>\n",
       "      <th>165795</th>\n",
       "      <td>1</td>\n",
       "    </tr>\n",
       "    <tr>\n",
       "      <th>288561</th>\n",
       "      <td>1</td>\n",
       "    </tr>\n",
       "    <tr>\n",
       "      <th>554772</th>\n",
       "      <td>1</td>\n",
       "    </tr>\n",
       "    <tr>\n",
       "      <th>713722</th>\n",
       "      <td>1</td>\n",
       "    </tr>\n",
       "  </tbody>\n",
       "</table>\n",
       "</div>"
      ],
      "text/plain": [
       "           count\n",
       "client_id       \n",
       "107893         1\n",
       "165795         1\n",
       "288561         1\n",
       "554772         1\n",
       "713722         1"
      ]
     },
     "execution_count": 11,
     "metadata": {},
     "output_type": "execute_result"
    }
   ],
   "source": [
    "num_order_client.head()"
   ]
  },
  {
   "cell_type": "code",
   "execution_count": 12,
   "metadata": {},
   "outputs": [],
   "source": [
    "#order the DT from the biggest (can apply also max to get the results)\n",
    "num_order_client = num_order_client.sort_values(by = 'count', ascending = False)"
   ]
  },
  {
   "cell_type": "code",
   "execution_count": 13,
   "metadata": {},
   "outputs": [
    {
     "data": {
      "text/html": [
       "<div>\n",
       "<style scoped>\n",
       "    .dataframe tbody tr th:only-of-type {\n",
       "        vertical-align: middle;\n",
       "    }\n",
       "\n",
       "    .dataframe tbody tr th {\n",
       "        vertical-align: top;\n",
       "    }\n",
       "\n",
       "    .dataframe thead th {\n",
       "        text-align: right;\n",
       "    }\n",
       "</style>\n",
       "<table border=\"1\" class=\"dataframe\">\n",
       "  <thead>\n",
       "    <tr style=\"text-align: right;\">\n",
       "      <th></th>\n",
       "      <th>count</th>\n",
       "    </tr>\n",
       "    <tr>\n",
       "      <th>client_id</th>\n",
       "      <th></th>\n",
       "    </tr>\n",
       "  </thead>\n",
       "  <tbody>\n",
       "    <tr>\n",
       "      <th>723755074</th>\n",
       "      <td>3</td>\n",
       "    </tr>\n",
       "    <tr>\n",
       "      <th>405195042</th>\n",
       "      <td>2</td>\n",
       "    </tr>\n",
       "    <tr>\n",
       "      <th>3133665</th>\n",
       "      <td>2</td>\n",
       "    </tr>\n",
       "    <tr>\n",
       "      <th>724232743</th>\n",
       "      <td>2</td>\n",
       "    </tr>\n",
       "    <tr>\n",
       "      <th>723796610</th>\n",
       "      <td>2</td>\n",
       "    </tr>\n",
       "  </tbody>\n",
       "</table>\n",
       "</div>"
      ],
      "text/plain": [
       "           count\n",
       "client_id       \n",
       "723755074      3\n",
       "405195042      2\n",
       "3133665        2\n",
       "724232743      2\n",
       "723796610      2"
      ]
     },
     "execution_count": 13,
     "metadata": {},
     "output_type": "execute_result"
    }
   ],
   "source": [
    "num_order_client.head()"
   ]
  },
  {
   "cell_type": "code",
   "execution_count": 14,
   "metadata": {},
   "outputs": [
    {
     "data": {
      "text/plain": [
       "22"
      ]
     },
     "execution_count": 14,
     "metadata": {},
     "output_type": "execute_result"
    }
   ],
   "source": [
    "#retrieve the client with more than 1 orders (answer 3)\n",
    "len(num_order_client[num_order_client['count'] > 1])"
   ]
  },
  {
   "cell_type": "code",
   "execution_count": 15,
   "metadata": {},
   "outputs": [],
   "source": [
    "#check in wyslane DT\n",
    "#fill NAN with 0 in column item_id_1, item_id_2, item_id_3\n",
    "df_wyslane['item_id_1'] = df_wyslane['item_id_1'].fillna(0)\n",
    "df_wyslane['item_id_2'] = df_wyslane['item_id_2'].fillna(0)\n",
    "df_wyslane['item_id_3'] = df_wyslane['item_id_3'].fillna(0)\n"
   ]
  },
  {
   "cell_type": "code",
   "execution_count": 16,
   "metadata": {},
   "outputs": [],
   "source": [
    "#convert columns to numeric\n",
    "df_wyslane['item_id_1'] = pd.to_numeric(df_wyslane['item_id_1'], downcast = 'integer')\n",
    "df_wyslane['item_id_2'] = pd.to_numeric(df_wyslane['item_id_2'], downcast = 'integer')\n",
    "df_wyslane['item_id_3'] = pd.to_numeric(df_wyslane['item_id_3'], downcast = 'integer')"
   ]
  },
  {
   "cell_type": "code",
   "execution_count": 17,
   "metadata": {},
   "outputs": [],
   "source": [
    "#retrive data from item_id_1 and group by their number to get the occurence of each item\n",
    "num_item_count_1 = pd.DataFrame(df_wyslane.groupby(['item_id_1'])\n",
    "                              .size(), columns = ['count_1'])"
   ]
  },
  {
   "cell_type": "code",
   "execution_count": 18,
   "metadata": {},
   "outputs": [],
   "source": [
    "#retrive data from item_id_2 and group by their number to get the occurence of each item\n",
    "num_item_count_2 = pd.DataFrame(df_wyslane.groupby(['item_id_2'])\n",
    "                              .size(), columns = ['count_2'])"
   ]
  },
  {
   "cell_type": "code",
   "execution_count": 19,
   "metadata": {},
   "outputs": [],
   "source": [
    "#retrive data from item_id_3 and group by their number to get the occurence of each item\n",
    "num_item_count_3 = pd.DataFrame(df_wyslane.groupby(['item_id_3'])\n",
    "                              .size(), columns = ['count_3'])"
   ]
  },
  {
   "cell_type": "code",
   "execution_count": 20,
   "metadata": {},
   "outputs": [],
   "source": [
    "#reset the index for better understanding in merging\n",
    "num_item_count_1 = num_item_count_1.reset_index()\n",
    "num_item_count_2 = num_item_count_2.reset_index()\n",
    "num_item_count_3 = num_item_count_3.reset_index()"
   ]
  },
  {
   "cell_type": "code",
   "execution_count": 21,
   "metadata": {},
   "outputs": [],
   "source": [
    "#drop rows where order_id = 0\n",
    "num_item_count_1 = num_item_count_1[num_item_count_1['item_id_1'] != 0]\n",
    "num_item_count_2 = num_item_count_2[num_item_count_2['item_id_2'] != 0]\n",
    "num_item_count_3 = num_item_count_3[num_item_count_3['item_id_3'] != 0]"
   ]
  },
  {
   "cell_type": "code",
   "execution_count": 22,
   "metadata": {},
   "outputs": [],
   "source": [
    "#merge the first count and the second one\n",
    "merge_items_count_1 = pd.merge(num_item_count_1,num_item_count_2, how = 'outer', \n",
    "                                        right_on = 'item_id_2', left_on = 'item_id_1')"
   ]
  },
  {
   "cell_type": "code",
   "execution_count": 23,
   "metadata": {},
   "outputs": [],
   "source": [
    "#merge the first 2 counts and the third one\n",
    "merge_items_count_2 = pd.merge(merge_items_count_1, num_item_count_3, how = 'outer', \n",
    "                             right_on = 'item_id_3', left_on = 'item_id_2')"
   ]
  },
  {
   "cell_type": "code",
   "execution_count": 24,
   "metadata": {},
   "outputs": [
    {
     "data": {
      "text/html": [
       "<div>\n",
       "<style scoped>\n",
       "    .dataframe tbody tr th:only-of-type {\n",
       "        vertical-align: middle;\n",
       "    }\n",
       "\n",
       "    .dataframe tbody tr th {\n",
       "        vertical-align: top;\n",
       "    }\n",
       "\n",
       "    .dataframe thead th {\n",
       "        text-align: right;\n",
       "    }\n",
       "</style>\n",
       "<table border=\"1\" class=\"dataframe\">\n",
       "  <thead>\n",
       "    <tr style=\"text-align: right;\">\n",
       "      <th></th>\n",
       "      <th>item_id_1</th>\n",
       "      <th>count_1</th>\n",
       "      <th>item_id_2</th>\n",
       "      <th>count_2</th>\n",
       "      <th>item_id_3</th>\n",
       "      <th>count_3</th>\n",
       "    </tr>\n",
       "  </thead>\n",
       "  <tbody>\n",
       "    <tr>\n",
       "      <th>0</th>\n",
       "      <td>52730</td>\n",
       "      <td>38</td>\n",
       "      <td>52730</td>\n",
       "      <td>7</td>\n",
       "      <td>52730.0</td>\n",
       "      <td>2.0</td>\n",
       "    </tr>\n",
       "    <tr>\n",
       "      <th>1</th>\n",
       "      <td>152614</td>\n",
       "      <td>39</td>\n",
       "      <td>152614</td>\n",
       "      <td>14</td>\n",
       "      <td>152614.0</td>\n",
       "      <td>3.0</td>\n",
       "    </tr>\n",
       "    <tr>\n",
       "      <th>2</th>\n",
       "      <td>331250</td>\n",
       "      <td>37</td>\n",
       "      <td>331250</td>\n",
       "      <td>10</td>\n",
       "      <td>331250.0</td>\n",
       "      <td>2.0</td>\n",
       "    </tr>\n",
       "    <tr>\n",
       "      <th>3</th>\n",
       "      <td>534353</td>\n",
       "      <td>22</td>\n",
       "      <td>534353</td>\n",
       "      <td>8</td>\n",
       "      <td>534353.0</td>\n",
       "      <td>7.0</td>\n",
       "    </tr>\n",
       "    <tr>\n",
       "      <th>4</th>\n",
       "      <td>552870</td>\n",
       "      <td>30</td>\n",
       "      <td>552870</td>\n",
       "      <td>12</td>\n",
       "      <td>552870.0</td>\n",
       "      <td>4.0</td>\n",
       "    </tr>\n",
       "    <tr>\n",
       "      <th>...</th>\n",
       "      <td>...</td>\n",
       "      <td>...</td>\n",
       "      <td>...</td>\n",
       "      <td>...</td>\n",
       "      <td>...</td>\n",
       "      <td>...</td>\n",
       "    </tr>\n",
       "    <tr>\n",
       "      <th>105</th>\n",
       "      <td>9780720</td>\n",
       "      <td>39</td>\n",
       "      <td>9780720</td>\n",
       "      <td>14</td>\n",
       "      <td>9780720.0</td>\n",
       "      <td>3.0</td>\n",
       "    </tr>\n",
       "    <tr>\n",
       "      <th>106</th>\n",
       "      <td>9813052</td>\n",
       "      <td>29</td>\n",
       "      <td>9813052</td>\n",
       "      <td>14</td>\n",
       "      <td>9813052.0</td>\n",
       "      <td>7.0</td>\n",
       "    </tr>\n",
       "    <tr>\n",
       "      <th>107</th>\n",
       "      <td>9873648</td>\n",
       "      <td>38</td>\n",
       "      <td>9873648</td>\n",
       "      <td>11</td>\n",
       "      <td>9873648.0</td>\n",
       "      <td>5.0</td>\n",
       "    </tr>\n",
       "    <tr>\n",
       "      <th>108</th>\n",
       "      <td>9897093</td>\n",
       "      <td>40</td>\n",
       "      <td>9897093</td>\n",
       "      <td>9</td>\n",
       "      <td>9897093.0</td>\n",
       "      <td>3.0</td>\n",
       "    </tr>\n",
       "    <tr>\n",
       "      <th>109</th>\n",
       "      <td>9989669</td>\n",
       "      <td>41</td>\n",
       "      <td>9989669</td>\n",
       "      <td>9</td>\n",
       "      <td>9989669.0</td>\n",
       "      <td>3.0</td>\n",
       "    </tr>\n",
       "  </tbody>\n",
       "</table>\n",
       "<p>110 rows × 6 columns</p>\n",
       "</div>"
      ],
      "text/plain": [
       "     item_id_1  count_1  item_id_2  count_2  item_id_3  count_3\n",
       "0        52730       38      52730        7    52730.0      2.0\n",
       "1       152614       39     152614       14   152614.0      3.0\n",
       "2       331250       37     331250       10   331250.0      2.0\n",
       "3       534353       22     534353        8   534353.0      7.0\n",
       "4       552870       30     552870       12   552870.0      4.0\n",
       "..         ...      ...        ...      ...        ...      ...\n",
       "105    9780720       39    9780720       14  9780720.0      3.0\n",
       "106    9813052       29    9813052       14  9813052.0      7.0\n",
       "107    9873648       38    9873648       11  9873648.0      5.0\n",
       "108    9897093       40    9897093        9  9897093.0      3.0\n",
       "109    9989669       41    9989669        9  9989669.0      3.0\n",
       "\n",
       "[110 rows x 6 columns]"
      ]
     },
     "execution_count": 24,
     "metadata": {},
     "output_type": "execute_result"
    }
   ],
   "source": [
    "merge_items_count_2"
   ]
  },
  {
   "cell_type": "code",
   "execution_count": 25,
   "metadata": {},
   "outputs": [],
   "source": [
    "#create a column total to get the value of the biggest product\n",
    "merge_items_count_2['total'] = merge_items_count_2['count_1'] + merge_items_count_2['count_2'] + merge_items_count_2['count_3']"
   ]
  },
  {
   "cell_type": "code",
   "execution_count": 26,
   "metadata": {},
   "outputs": [
    {
     "data": {
      "text/plain": [
       "4355722"
      ]
     },
     "execution_count": 26,
     "metadata": {},
     "output_type": "execute_result"
    }
   ],
   "source": [
    "#return the item id of the popular products (answer 4.1)\n",
    "(merge_items_count_2[merge_items_count_2['total'] == merge_items_count_2['total'].max()]).iloc[0, 0]"
   ]
  },
  {
   "cell_type": "code",
   "execution_count": 27,
   "metadata": {},
   "outputs": [
    {
     "data": {
      "text/html": [
       "<div>\n",
       "<style scoped>\n",
       "    .dataframe tbody tr th:only-of-type {\n",
       "        vertical-align: middle;\n",
       "    }\n",
       "\n",
       "    .dataframe tbody tr th {\n",
       "        vertical-align: top;\n",
       "    }\n",
       "\n",
       "    .dataframe thead th {\n",
       "        text-align: right;\n",
       "    }\n",
       "</style>\n",
       "<table border=\"1\" class=\"dataframe\">\n",
       "  <thead>\n",
       "    <tr style=\"text-align: right;\">\n",
       "      <th></th>\n",
       "      <th>order_id</th>\n",
       "      <th>client_id</th>\n",
       "      <th>order_date</th>\n",
       "      <th>KUPON</th>\n",
       "    </tr>\n",
       "  </thead>\n",
       "  <tbody>\n",
       "    <tr>\n",
       "      <th>3</th>\n",
       "      <td>1896544</td>\n",
       "      <td>123641536</td>\n",
       "      <td>05.05.2019</td>\n",
       "      <td>15%</td>\n",
       "    </tr>\n",
       "    <tr>\n",
       "      <th>5</th>\n",
       "      <td>2143538</td>\n",
       "      <td>563294140</td>\n",
       "      <td>08.04.2019</td>\n",
       "      <td>40%</td>\n",
       "    </tr>\n",
       "    <tr>\n",
       "      <th>23</th>\n",
       "      <td>4932443</td>\n",
       "      <td>314452019</td>\n",
       "      <td>31.03.2019</td>\n",
       "      <td>20%</td>\n",
       "    </tr>\n",
       "    <tr>\n",
       "      <th>25</th>\n",
       "      <td>5231560</td>\n",
       "      <td>649526055</td>\n",
       "      <td>19.07.2019</td>\n",
       "      <td>5%</td>\n",
       "    </tr>\n",
       "    <tr>\n",
       "      <th>26</th>\n",
       "      <td>6074529</td>\n",
       "      <td>849773609</td>\n",
       "      <td>08.07.2019</td>\n",
       "      <td>30%</td>\n",
       "    </tr>\n",
       "    <tr>\n",
       "      <th>...</th>\n",
       "      <td>...</td>\n",
       "      <td>...</td>\n",
       "      <td>...</td>\n",
       "      <td>...</td>\n",
       "    </tr>\n",
       "    <tr>\n",
       "      <th>4998</th>\n",
       "      <td>993806672</td>\n",
       "      <td>733932462</td>\n",
       "      <td>14.08.2019</td>\n",
       "      <td>43%</td>\n",
       "    </tr>\n",
       "    <tr>\n",
       "      <th>5005</th>\n",
       "      <td>994770134</td>\n",
       "      <td>260389043</td>\n",
       "      <td>18.05.2019</td>\n",
       "      <td>45%</td>\n",
       "    </tr>\n",
       "    <tr>\n",
       "      <th>5013</th>\n",
       "      <td>996541103</td>\n",
       "      <td>989867713</td>\n",
       "      <td>25.08.2019</td>\n",
       "      <td>29%</td>\n",
       "    </tr>\n",
       "    <tr>\n",
       "      <th>5014</th>\n",
       "      <td>997108649</td>\n",
       "      <td>182839695</td>\n",
       "      <td>31.03.2019</td>\n",
       "      <td>22%</td>\n",
       "    </tr>\n",
       "    <tr>\n",
       "      <th>5018</th>\n",
       "      <td>997711725</td>\n",
       "      <td>4117165</td>\n",
       "      <td>06.05.2019</td>\n",
       "      <td>9%</td>\n",
       "    </tr>\n",
       "  </tbody>\n",
       "</table>\n",
       "<p>998 rows × 4 columns</p>\n",
       "</div>"
      ],
      "text/plain": [
       "       order_id  client_id  order_date KUPON\n",
       "3       1896544  123641536  05.05.2019   15%\n",
       "5       2143538  563294140  08.04.2019   40%\n",
       "23      4932443  314452019  31.03.2019   20%\n",
       "25      5231560  649526055  19.07.2019    5%\n",
       "26      6074529  849773609  08.07.2019   30%\n",
       "...         ...        ...         ...   ...\n",
       "4998  993806672  733932462  14.08.2019   43%\n",
       "5005  994770134  260389043  18.05.2019   45%\n",
       "5013  996541103  989867713  25.08.2019   29%\n",
       "5014  997108649  182839695  31.03.2019   22%\n",
       "5018  997711725    4117165  06.05.2019    9%\n",
       "\n",
       "[998 rows x 4 columns]"
      ]
     },
     "execution_count": 27,
     "metadata": {},
     "output_type": "execute_result"
    }
   ],
   "source": [
    "#check the kupon DT\n",
    "kupon"
   ]
  },
  {
   "cell_type": "code",
   "execution_count": 28,
   "metadata": {},
   "outputs": [
    {
     "data": {
      "text/html": [
       "<div>\n",
       "<style scoped>\n",
       "    .dataframe tbody tr th:only-of-type {\n",
       "        vertical-align: middle;\n",
       "    }\n",
       "\n",
       "    .dataframe tbody tr th {\n",
       "        vertical-align: top;\n",
       "    }\n",
       "\n",
       "    .dataframe thead th {\n",
       "        text-align: right;\n",
       "    }\n",
       "</style>\n",
       "<table border=\"1\" class=\"dataframe\">\n",
       "  <thead>\n",
       "    <tr style=\"text-align: right;\">\n",
       "      <th></th>\n",
       "      <th>order_id</th>\n",
       "      <th>item_id_1</th>\n",
       "      <th>item_id_2</th>\n",
       "      <th>item_id_3</th>\n",
       "    </tr>\n",
       "  </thead>\n",
       "  <tbody>\n",
       "    <tr>\n",
       "      <th>0</th>\n",
       "      <td>314631735</td>\n",
       "      <td>2655227</td>\n",
       "      <td>9051607</td>\n",
       "      <td>0</td>\n",
       "    </tr>\n",
       "    <tr>\n",
       "      <th>1</th>\n",
       "      <td>802224752</td>\n",
       "      <td>1984910</td>\n",
       "      <td>4286301</td>\n",
       "      <td>0</td>\n",
       "    </tr>\n",
       "    <tr>\n",
       "      <th>2</th>\n",
       "      <td>716057036</td>\n",
       "      <td>2669985</td>\n",
       "      <td>1052038</td>\n",
       "      <td>0</td>\n",
       "    </tr>\n",
       "    <tr>\n",
       "      <th>3</th>\n",
       "      <td>125731133</td>\n",
       "      <td>5966397</td>\n",
       "      <td>0</td>\n",
       "      <td>0</td>\n",
       "    </tr>\n",
       "    <tr>\n",
       "      <th>4</th>\n",
       "      <td>12070864</td>\n",
       "      <td>6788106</td>\n",
       "      <td>9643817</td>\n",
       "      <td>0</td>\n",
       "    </tr>\n",
       "    <tr>\n",
       "      <th>...</th>\n",
       "      <td>...</td>\n",
       "      <td>...</td>\n",
       "      <td>...</td>\n",
       "      <td>...</td>\n",
       "    </tr>\n",
       "    <tr>\n",
       "      <th>3662</th>\n",
       "      <td>552069972</td>\n",
       "      <td>4738768</td>\n",
       "      <td>684194</td>\n",
       "      <td>4169115</td>\n",
       "    </tr>\n",
       "    <tr>\n",
       "      <th>3663</th>\n",
       "      <td>408612183</td>\n",
       "      <td>8250741</td>\n",
       "      <td>1005647</td>\n",
       "      <td>0</td>\n",
       "    </tr>\n",
       "    <tr>\n",
       "      <th>3664</th>\n",
       "      <td>725171229</td>\n",
       "      <td>152614</td>\n",
       "      <td>0</td>\n",
       "      <td>0</td>\n",
       "    </tr>\n",
       "    <tr>\n",
       "      <th>3665</th>\n",
       "      <td>26224680</td>\n",
       "      <td>1971413</td>\n",
       "      <td>0</td>\n",
       "      <td>0</td>\n",
       "    </tr>\n",
       "    <tr>\n",
       "      <th>3666</th>\n",
       "      <td>824588700</td>\n",
       "      <td>5801454</td>\n",
       "      <td>2448933</td>\n",
       "      <td>52730</td>\n",
       "    </tr>\n",
       "  </tbody>\n",
       "</table>\n",
       "<p>3667 rows × 4 columns</p>\n",
       "</div>"
      ],
      "text/plain": [
       "       order_id  item_id_1  item_id_2  item_id_3\n",
       "0     314631735    2655227    9051607          0\n",
       "1     802224752    1984910    4286301          0\n",
       "2     716057036    2669985    1052038          0\n",
       "3     125731133    5966397          0          0\n",
       "4      12070864    6788106    9643817          0\n",
       "...         ...        ...        ...        ...\n",
       "3662  552069972    4738768     684194    4169115\n",
       "3663  408612183    8250741    1005647          0\n",
       "3664  725171229     152614          0          0\n",
       "3665   26224680    1971413          0          0\n",
       "3666  824588700    5801454    2448933      52730\n",
       "\n",
       "[3667 rows x 4 columns]"
      ]
     },
     "execution_count": 28,
     "metadata": {},
     "output_type": "execute_result"
    }
   ],
   "source": [
    "#check wyslane DT\n",
    "df_wyslane"
   ]
  },
  {
   "cell_type": "code",
   "execution_count": 29,
   "metadata": {},
   "outputs": [],
   "source": [
    "#merge the 2 DT to retrieve the number client (left because we will get the client with coupon only)\n",
    "client_kupon = pd.merge(kupon, df_wyslane, how = 'left', on ='order_id')"
   ]
  },
  {
   "cell_type": "code",
   "execution_count": 30,
   "metadata": {},
   "outputs": [
    {
     "data": {
      "text/html": [
       "<div>\n",
       "<style scoped>\n",
       "    .dataframe tbody tr th:only-of-type {\n",
       "        vertical-align: middle;\n",
       "    }\n",
       "\n",
       "    .dataframe tbody tr th {\n",
       "        vertical-align: top;\n",
       "    }\n",
       "\n",
       "    .dataframe thead th {\n",
       "        text-align: right;\n",
       "    }\n",
       "</style>\n",
       "<table border=\"1\" class=\"dataframe\">\n",
       "  <thead>\n",
       "    <tr style=\"text-align: right;\">\n",
       "      <th></th>\n",
       "      <th>order_id</th>\n",
       "      <th>client_id</th>\n",
       "      <th>order_date</th>\n",
       "      <th>KUPON</th>\n",
       "      <th>item_id_1</th>\n",
       "      <th>item_id_2</th>\n",
       "      <th>item_id_3</th>\n",
       "    </tr>\n",
       "  </thead>\n",
       "  <tbody>\n",
       "    <tr>\n",
       "      <th>0</th>\n",
       "      <td>1896544</td>\n",
       "      <td>123641536</td>\n",
       "      <td>05.05.2019</td>\n",
       "      <td>15%</td>\n",
       "      <td>NaN</td>\n",
       "      <td>NaN</td>\n",
       "      <td>NaN</td>\n",
       "    </tr>\n",
       "    <tr>\n",
       "      <th>1</th>\n",
       "      <td>2143538</td>\n",
       "      <td>563294140</td>\n",
       "      <td>08.04.2019</td>\n",
       "      <td>40%</td>\n",
       "      <td>5801454.0</td>\n",
       "      <td>2077835.0</td>\n",
       "      <td>0.0</td>\n",
       "    </tr>\n",
       "    <tr>\n",
       "      <th>2</th>\n",
       "      <td>4932443</td>\n",
       "      <td>314452019</td>\n",
       "      <td>31.03.2019</td>\n",
       "      <td>20%</td>\n",
       "      <td>6960602.0</td>\n",
       "      <td>0.0</td>\n",
       "      <td>0.0</td>\n",
       "    </tr>\n",
       "    <tr>\n",
       "      <th>3</th>\n",
       "      <td>5231560</td>\n",
       "      <td>649526055</td>\n",
       "      <td>19.07.2019</td>\n",
       "      <td>5%</td>\n",
       "      <td>7642810.0</td>\n",
       "      <td>0.0</td>\n",
       "      <td>0.0</td>\n",
       "    </tr>\n",
       "    <tr>\n",
       "      <th>4</th>\n",
       "      <td>6074529</td>\n",
       "      <td>849773609</td>\n",
       "      <td>08.07.2019</td>\n",
       "      <td>30%</td>\n",
       "      <td>2773385.0</td>\n",
       "      <td>0.0</td>\n",
       "      <td>0.0</td>\n",
       "    </tr>\n",
       "    <tr>\n",
       "      <th>...</th>\n",
       "      <td>...</td>\n",
       "      <td>...</td>\n",
       "      <td>...</td>\n",
       "      <td>...</td>\n",
       "      <td>...</td>\n",
       "      <td>...</td>\n",
       "      <td>...</td>\n",
       "    </tr>\n",
       "    <tr>\n",
       "      <th>993</th>\n",
       "      <td>993806672</td>\n",
       "      <td>733932462</td>\n",
       "      <td>14.08.2019</td>\n",
       "      <td>43%</td>\n",
       "      <td>8266482.0</td>\n",
       "      <td>0.0</td>\n",
       "      <td>0.0</td>\n",
       "    </tr>\n",
       "    <tr>\n",
       "      <th>994</th>\n",
       "      <td>994770134</td>\n",
       "      <td>260389043</td>\n",
       "      <td>18.05.2019</td>\n",
       "      <td>45%</td>\n",
       "      <td>NaN</td>\n",
       "      <td>NaN</td>\n",
       "      <td>NaN</td>\n",
       "    </tr>\n",
       "    <tr>\n",
       "      <th>995</th>\n",
       "      <td>996541103</td>\n",
       "      <td>989867713</td>\n",
       "      <td>25.08.2019</td>\n",
       "      <td>29%</td>\n",
       "      <td>6615435.0</td>\n",
       "      <td>0.0</td>\n",
       "      <td>0.0</td>\n",
       "    </tr>\n",
       "    <tr>\n",
       "      <th>996</th>\n",
       "      <td>997108649</td>\n",
       "      <td>182839695</td>\n",
       "      <td>31.03.2019</td>\n",
       "      <td>22%</td>\n",
       "      <td>NaN</td>\n",
       "      <td>NaN</td>\n",
       "      <td>NaN</td>\n",
       "    </tr>\n",
       "    <tr>\n",
       "      <th>997</th>\n",
       "      <td>997711725</td>\n",
       "      <td>4117165</td>\n",
       "      <td>06.05.2019</td>\n",
       "      <td>9%</td>\n",
       "      <td>NaN</td>\n",
       "      <td>NaN</td>\n",
       "      <td>NaN</td>\n",
       "    </tr>\n",
       "  </tbody>\n",
       "</table>\n",
       "<p>998 rows × 7 columns</p>\n",
       "</div>"
      ],
      "text/plain": [
       "      order_id  client_id  order_date KUPON  item_id_1  item_id_2  item_id_3\n",
       "0      1896544  123641536  05.05.2019   15%        NaN        NaN        NaN\n",
       "1      2143538  563294140  08.04.2019   40%  5801454.0  2077835.0        0.0\n",
       "2      4932443  314452019  31.03.2019   20%  6960602.0        0.0        0.0\n",
       "3      5231560  649526055  19.07.2019    5%  7642810.0        0.0        0.0\n",
       "4      6074529  849773609  08.07.2019   30%  2773385.0        0.0        0.0\n",
       "..         ...        ...         ...   ...        ...        ...        ...\n",
       "993  993806672  733932462  14.08.2019   43%  8266482.0        0.0        0.0\n",
       "994  994770134  260389043  18.05.2019   45%        NaN        NaN        NaN\n",
       "995  996541103  989867713  25.08.2019   29%  6615435.0        0.0        0.0\n",
       "996  997108649  182839695  31.03.2019   22%        NaN        NaN        NaN\n",
       "997  997711725    4117165  06.05.2019    9%        NaN        NaN        NaN\n",
       "\n",
       "[998 rows x 7 columns]"
      ]
     },
     "execution_count": 30,
     "metadata": {},
     "output_type": "execute_result"
    }
   ],
   "source": [
    "#check the client_kupon DT\n",
    "client_kupon"
   ]
  },
  {
   "cell_type": "code",
   "execution_count": 31,
   "metadata": {},
   "outputs": [],
   "source": [
    "#retrive the clients which only bought the popular product \n",
    "number_client = client_kupon[(client_kupon['item_id_1'] == 4355722) | (client_kupon['item_id_2'] == 4355722)\n",
    "                            | (client_kupon['item_id_3'] == 4355722)]"
   ]
  },
  {
   "cell_type": "code",
   "execution_count": 32,
   "metadata": {},
   "outputs": [
    {
     "data": {
      "text/plain": [
       "11"
      ]
     },
     "execution_count": 32,
     "metadata": {},
     "output_type": "execute_result"
    }
   ],
   "source": [
    "#check the len of the DT to get the correct number (answer 4.1)\n",
    "len(number_client)"
   ]
  },
  {
   "cell_type": "code",
   "execution_count": 33,
   "metadata": {},
   "outputs": [],
   "source": [
    "#retrieve kupon for item_id_1\n",
    "coupon_item_count_1 = pd.DataFrame(client_kupon.groupby(['item_id_1'])\n",
    "                              .size(), columns = ['count_1'])"
   ]
  },
  {
   "cell_type": "code",
   "execution_count": 34,
   "metadata": {},
   "outputs": [],
   "source": [
    "#retrieve kupon for item_id_2\n",
    "coupon_item_count_2 = pd.DataFrame(client_kupon.groupby(['item_id_2'])\n",
    "                              .size(), columns = ['count_2'])"
   ]
  },
  {
   "cell_type": "code",
   "execution_count": 35,
   "metadata": {},
   "outputs": [],
   "source": [
    "#retrieve kupon for item_id_1\n",
    "coupon_item_count_3 = pd.DataFrame(client_kupon.groupby(['item_id_3'])\n",
    "                              .size(), columns = ['count_3'])"
   ]
  },
  {
   "cell_type": "code",
   "execution_count": 36,
   "metadata": {},
   "outputs": [],
   "source": [
    "#reset the index for better understanding on merging\n",
    "coupon_item_count_1 = coupon_item_count_1.reset_index()\n",
    "coupon_item_count_2 = coupon_item_count_2.reset_index()\n",
    "coupon_item_count_3 = coupon_item_count_3.reset_index()"
   ]
  },
  {
   "cell_type": "code",
   "execution_count": 37,
   "metadata": {},
   "outputs": [],
   "source": [
    "#drop rows where order_id = 0\n",
    "coupon_item_count_1 = coupon_item_count_1[coupon_item_count_1['item_id_1'] != 0]\n",
    "coupon_item_count_2 = coupon_item_count_2[coupon_item_count_2['item_id_2'] != 0]\n",
    "coupon_item_count_3 = coupon_item_count_3[coupon_item_count_3['item_id_3'] != 0]"
   ]
  },
  {
   "cell_type": "code",
   "execution_count": 38,
   "metadata": {},
   "outputs": [],
   "source": [
    "#merge first and second kupon DT\n",
    "merge_kupon_count_1 = pd.merge(coupon_item_count_1,coupon_item_count_2, how = 'outer', \n",
    "                                        right_on = 'item_id_2', left_on = 'item_id_1')"
   ]
  },
  {
   "cell_type": "code",
   "execution_count": 39,
   "metadata": {},
   "outputs": [],
   "source": [
    "#merge the first 2 datasets and third kupon DT\n",
    "merge_kupon_count_2 = pd.merge(merge_kupon_count_1, coupon_item_count_3, how = 'outer', \n",
    "                              right_on = 'item_id_3', left_on = 'item_id_2')"
   ]
  },
  {
   "cell_type": "code",
   "execution_count": 40,
   "metadata": {},
   "outputs": [
    {
     "data": {
      "text/html": [
       "<div>\n",
       "<style scoped>\n",
       "    .dataframe tbody tr th:only-of-type {\n",
       "        vertical-align: middle;\n",
       "    }\n",
       "\n",
       "    .dataframe tbody tr th {\n",
       "        vertical-align: top;\n",
       "    }\n",
       "\n",
       "    .dataframe thead th {\n",
       "        text-align: right;\n",
       "    }\n",
       "</style>\n",
       "<table border=\"1\" class=\"dataframe\">\n",
       "  <thead>\n",
       "    <tr style=\"text-align: right;\">\n",
       "      <th></th>\n",
       "      <th>item_id_1</th>\n",
       "      <th>count_1</th>\n",
       "      <th>item_id_2</th>\n",
       "      <th>count_2</th>\n",
       "      <th>item_id_3</th>\n",
       "      <th>count_3</th>\n",
       "    </tr>\n",
       "  </thead>\n",
       "  <tbody>\n",
       "    <tr>\n",
       "      <th>0</th>\n",
       "      <td>52730.0</td>\n",
       "      <td>11.0</td>\n",
       "      <td>52730.0</td>\n",
       "      <td>1.0</td>\n",
       "      <td>NaN</td>\n",
       "      <td>NaN</td>\n",
       "    </tr>\n",
       "    <tr>\n",
       "      <th>1</th>\n",
       "      <td>152614.0</td>\n",
       "      <td>5.0</td>\n",
       "      <td>152614.0</td>\n",
       "      <td>3.0</td>\n",
       "      <td>152614.0</td>\n",
       "      <td>1.0</td>\n",
       "    </tr>\n",
       "    <tr>\n",
       "      <th>2</th>\n",
       "      <td>331250.0</td>\n",
       "      <td>6.0</td>\n",
       "      <td>331250.0</td>\n",
       "      <td>1.0</td>\n",
       "      <td>NaN</td>\n",
       "      <td>NaN</td>\n",
       "    </tr>\n",
       "    <tr>\n",
       "      <th>3</th>\n",
       "      <td>534353.0</td>\n",
       "      <td>3.0</td>\n",
       "      <td>534353.0</td>\n",
       "      <td>3.0</td>\n",
       "      <td>NaN</td>\n",
       "      <td>NaN</td>\n",
       "    </tr>\n",
       "    <tr>\n",
       "      <th>4</th>\n",
       "      <td>552870.0</td>\n",
       "      <td>10.0</td>\n",
       "      <td>552870.0</td>\n",
       "      <td>5.0</td>\n",
       "      <td>552870.0</td>\n",
       "      <td>1.0</td>\n",
       "    </tr>\n",
       "  </tbody>\n",
       "</table>\n",
       "</div>"
      ],
      "text/plain": [
       "   item_id_1  count_1  item_id_2  count_2  item_id_3  count_3\n",
       "0    52730.0     11.0    52730.0      1.0        NaN      NaN\n",
       "1   152614.0      5.0   152614.0      3.0   152614.0      1.0\n",
       "2   331250.0      6.0   331250.0      1.0        NaN      NaN\n",
       "3   534353.0      3.0   534353.0      3.0        NaN      NaN\n",
       "4   552870.0     10.0   552870.0      5.0   552870.0      1.0"
      ]
     },
     "execution_count": 40,
     "metadata": {},
     "output_type": "execute_result"
    }
   ],
   "source": [
    "merge_kupon_count_2.head()"
   ]
  },
  {
   "cell_type": "code",
   "execution_count": 41,
   "metadata": {},
   "outputs": [],
   "source": [
    "#let set NaN values to 0\n",
    "merge_kupon_count_2 = merge_kupon_count_2.fillna(0)"
   ]
  },
  {
   "cell_type": "code",
   "execution_count": 42,
   "metadata": {},
   "outputs": [
    {
     "data": {
      "text/html": [
       "<div>\n",
       "<style scoped>\n",
       "    .dataframe tbody tr th:only-of-type {\n",
       "        vertical-align: middle;\n",
       "    }\n",
       "\n",
       "    .dataframe tbody tr th {\n",
       "        vertical-align: top;\n",
       "    }\n",
       "\n",
       "    .dataframe thead th {\n",
       "        text-align: right;\n",
       "    }\n",
       "</style>\n",
       "<table border=\"1\" class=\"dataframe\">\n",
       "  <thead>\n",
       "    <tr style=\"text-align: right;\">\n",
       "      <th></th>\n",
       "      <th>item_id_1</th>\n",
       "      <th>count_1</th>\n",
       "      <th>item_id_2</th>\n",
       "      <th>count_2</th>\n",
       "      <th>item_id_3</th>\n",
       "      <th>count_3</th>\n",
       "    </tr>\n",
       "  </thead>\n",
       "  <tbody>\n",
       "    <tr>\n",
       "      <th>0</th>\n",
       "      <td>52730.0</td>\n",
       "      <td>11.0</td>\n",
       "      <td>52730.0</td>\n",
       "      <td>1.0</td>\n",
       "      <td>0.0</td>\n",
       "      <td>0.0</td>\n",
       "    </tr>\n",
       "    <tr>\n",
       "      <th>1</th>\n",
       "      <td>152614.0</td>\n",
       "      <td>5.0</td>\n",
       "      <td>152614.0</td>\n",
       "      <td>3.0</td>\n",
       "      <td>152614.0</td>\n",
       "      <td>1.0</td>\n",
       "    </tr>\n",
       "    <tr>\n",
       "      <th>2</th>\n",
       "      <td>331250.0</td>\n",
       "      <td>6.0</td>\n",
       "      <td>331250.0</td>\n",
       "      <td>1.0</td>\n",
       "      <td>0.0</td>\n",
       "      <td>0.0</td>\n",
       "    </tr>\n",
       "    <tr>\n",
       "      <th>3</th>\n",
       "      <td>534353.0</td>\n",
       "      <td>3.0</td>\n",
       "      <td>534353.0</td>\n",
       "      <td>3.0</td>\n",
       "      <td>0.0</td>\n",
       "      <td>0.0</td>\n",
       "    </tr>\n",
       "    <tr>\n",
       "      <th>4</th>\n",
       "      <td>552870.0</td>\n",
       "      <td>10.0</td>\n",
       "      <td>552870.0</td>\n",
       "      <td>5.0</td>\n",
       "      <td>552870.0</td>\n",
       "      <td>1.0</td>\n",
       "    </tr>\n",
       "  </tbody>\n",
       "</table>\n",
       "</div>"
      ],
      "text/plain": [
       "   item_id_1  count_1  item_id_2  count_2  item_id_3  count_3\n",
       "0    52730.0     11.0    52730.0      1.0        0.0      0.0\n",
       "1   152614.0      5.0   152614.0      3.0   152614.0      1.0\n",
       "2   331250.0      6.0   331250.0      1.0        0.0      0.0\n",
       "3   534353.0      3.0   534353.0      3.0        0.0      0.0\n",
       "4   552870.0     10.0   552870.0      5.0   552870.0      1.0"
      ]
     },
     "execution_count": 42,
     "metadata": {},
     "output_type": "execute_result"
    }
   ],
   "source": [
    "merge_kupon_count_2.head()"
   ]
  },
  {
   "cell_type": "code",
   "execution_count": 43,
   "metadata": {},
   "outputs": [],
   "source": [
    "#create the total column\n",
    "merge_kupon_count_2['total'] = merge_kupon_count_2['count_1'] + merge_kupon_count_2['count_2'] + merge_kupon_count_2['count_3']"
   ]
  },
  {
   "cell_type": "code",
   "execution_count": 44,
   "metadata": {},
   "outputs": [
    {
     "data": {
      "text/html": [
       "<div>\n",
       "<style scoped>\n",
       "    .dataframe tbody tr th:only-of-type {\n",
       "        vertical-align: middle;\n",
       "    }\n",
       "\n",
       "    .dataframe tbody tr th {\n",
       "        vertical-align: top;\n",
       "    }\n",
       "\n",
       "    .dataframe thead th {\n",
       "        text-align: right;\n",
       "    }\n",
       "</style>\n",
       "<table border=\"1\" class=\"dataframe\">\n",
       "  <thead>\n",
       "    <tr style=\"text-align: right;\">\n",
       "      <th></th>\n",
       "      <th>item_id_1</th>\n",
       "      <th>count_1</th>\n",
       "      <th>item_id_2</th>\n",
       "      <th>count_2</th>\n",
       "      <th>item_id_3</th>\n",
       "      <th>count_3</th>\n",
       "      <th>total</th>\n",
       "    </tr>\n",
       "  </thead>\n",
       "  <tbody>\n",
       "    <tr>\n",
       "      <th>0</th>\n",
       "      <td>52730.0</td>\n",
       "      <td>11.0</td>\n",
       "      <td>52730.0</td>\n",
       "      <td>1.0</td>\n",
       "      <td>0.0</td>\n",
       "      <td>0.0</td>\n",
       "      <td>12.0</td>\n",
       "    </tr>\n",
       "    <tr>\n",
       "      <th>1</th>\n",
       "      <td>152614.0</td>\n",
       "      <td>5.0</td>\n",
       "      <td>152614.0</td>\n",
       "      <td>3.0</td>\n",
       "      <td>152614.0</td>\n",
       "      <td>1.0</td>\n",
       "      <td>9.0</td>\n",
       "    </tr>\n",
       "    <tr>\n",
       "      <th>2</th>\n",
       "      <td>331250.0</td>\n",
       "      <td>6.0</td>\n",
       "      <td>331250.0</td>\n",
       "      <td>1.0</td>\n",
       "      <td>0.0</td>\n",
       "      <td>0.0</td>\n",
       "      <td>7.0</td>\n",
       "    </tr>\n",
       "    <tr>\n",
       "      <th>3</th>\n",
       "      <td>534353.0</td>\n",
       "      <td>3.0</td>\n",
       "      <td>534353.0</td>\n",
       "      <td>3.0</td>\n",
       "      <td>0.0</td>\n",
       "      <td>0.0</td>\n",
       "      <td>6.0</td>\n",
       "    </tr>\n",
       "    <tr>\n",
       "      <th>4</th>\n",
       "      <td>552870.0</td>\n",
       "      <td>10.0</td>\n",
       "      <td>552870.0</td>\n",
       "      <td>5.0</td>\n",
       "      <td>552870.0</td>\n",
       "      <td>1.0</td>\n",
       "      <td>16.0</td>\n",
       "    </tr>\n",
       "    <tr>\n",
       "      <th>...</th>\n",
       "      <td>...</td>\n",
       "      <td>...</td>\n",
       "      <td>...</td>\n",
       "      <td>...</td>\n",
       "      <td>...</td>\n",
       "      <td>...</td>\n",
       "      <td>...</td>\n",
       "    </tr>\n",
       "    <tr>\n",
       "      <th>106</th>\n",
       "      <td>9813052.0</td>\n",
       "      <td>4.0</td>\n",
       "      <td>9813052.0</td>\n",
       "      <td>1.0</td>\n",
       "      <td>9813052.0</td>\n",
       "      <td>1.0</td>\n",
       "      <td>6.0</td>\n",
       "    </tr>\n",
       "    <tr>\n",
       "      <th>107</th>\n",
       "      <td>9873648.0</td>\n",
       "      <td>12.0</td>\n",
       "      <td>9873648.0</td>\n",
       "      <td>3.0</td>\n",
       "      <td>9873648.0</td>\n",
       "      <td>2.0</td>\n",
       "      <td>17.0</td>\n",
       "    </tr>\n",
       "    <tr>\n",
       "      <th>108</th>\n",
       "      <td>9897093.0</td>\n",
       "      <td>9.0</td>\n",
       "      <td>9897093.0</td>\n",
       "      <td>1.0</td>\n",
       "      <td>9897093.0</td>\n",
       "      <td>1.0</td>\n",
       "      <td>11.0</td>\n",
       "    </tr>\n",
       "    <tr>\n",
       "      <th>109</th>\n",
       "      <td>9989669.0</td>\n",
       "      <td>5.0</td>\n",
       "      <td>9989669.0</td>\n",
       "      <td>2.0</td>\n",
       "      <td>9989669.0</td>\n",
       "      <td>1.0</td>\n",
       "      <td>8.0</td>\n",
       "    </tr>\n",
       "    <tr>\n",
       "      <th>110</th>\n",
       "      <td>0.0</td>\n",
       "      <td>0.0</td>\n",
       "      <td>0.0</td>\n",
       "      <td>0.0</td>\n",
       "      <td>8368010.0</td>\n",
       "      <td>1.0</td>\n",
       "      <td>1.0</td>\n",
       "    </tr>\n",
       "  </tbody>\n",
       "</table>\n",
       "<p>111 rows × 7 columns</p>\n",
       "</div>"
      ],
      "text/plain": [
       "     item_id_1  count_1  item_id_2  count_2  item_id_3  count_3  total\n",
       "0      52730.0     11.0    52730.0      1.0        0.0      0.0   12.0\n",
       "1     152614.0      5.0   152614.0      3.0   152614.0      1.0    9.0\n",
       "2     331250.0      6.0   331250.0      1.0        0.0      0.0    7.0\n",
       "3     534353.0      3.0   534353.0      3.0        0.0      0.0    6.0\n",
       "4     552870.0     10.0   552870.0      5.0   552870.0      1.0   16.0\n",
       "..         ...      ...        ...      ...        ...      ...    ...\n",
       "106  9813052.0      4.0  9813052.0      1.0  9813052.0      1.0    6.0\n",
       "107  9873648.0     12.0  9873648.0      3.0  9873648.0      2.0   17.0\n",
       "108  9897093.0      9.0  9897093.0      1.0  9897093.0      1.0   11.0\n",
       "109  9989669.0      5.0  9989669.0      2.0  9989669.0      1.0    8.0\n",
       "110        0.0      0.0        0.0      0.0  8368010.0      1.0    1.0\n",
       "\n",
       "[111 rows x 7 columns]"
      ]
     },
     "execution_count": 44,
     "metadata": {},
     "output_type": "execute_result"
    }
   ],
   "source": [
    "merge_kupon_count_2"
   ]
  },
  {
   "cell_type": "code",
   "execution_count": 45,
   "metadata": {},
   "outputs": [
    {
     "data": {
      "text/plain": [
       "1554376"
      ]
     },
     "execution_count": 45,
     "metadata": {},
     "output_type": "execute_result"
    }
   ],
   "source": [
    "#return the product bought with kupon most of times (answer 5)\n",
    "int((merge_kupon_count_2[merge_kupon_count_2['total'] == merge_kupon_count_2['total'].max()]).iloc[0, 0])"
   ]
  },
  {
   "cell_type": "code",
   "execution_count": 46,
   "metadata": {},
   "outputs": [
    {
     "data": {
      "text/html": [
       "<div>\n",
       "<style scoped>\n",
       "    .dataframe tbody tr th:only-of-type {\n",
       "        vertical-align: middle;\n",
       "    }\n",
       "\n",
       "    .dataframe tbody tr th {\n",
       "        vertical-align: top;\n",
       "    }\n",
       "\n",
       "    .dataframe thead th {\n",
       "        text-align: right;\n",
       "    }\n",
       "</style>\n",
       "<table border=\"1\" class=\"dataframe\">\n",
       "  <thead>\n",
       "    <tr style=\"text-align: right;\">\n",
       "      <th></th>\n",
       "      <th>order_id</th>\n",
       "      <th>item_id_1</th>\n",
       "      <th>item_id_2</th>\n",
       "      <th>item_id_3</th>\n",
       "    </tr>\n",
       "  </thead>\n",
       "  <tbody>\n",
       "    <tr>\n",
       "      <th>0</th>\n",
       "      <td>314631735</td>\n",
       "      <td>2655227</td>\n",
       "      <td>9051607</td>\n",
       "      <td>0</td>\n",
       "    </tr>\n",
       "    <tr>\n",
       "      <th>1</th>\n",
       "      <td>802224752</td>\n",
       "      <td>1984910</td>\n",
       "      <td>4286301</td>\n",
       "      <td>0</td>\n",
       "    </tr>\n",
       "    <tr>\n",
       "      <th>2</th>\n",
       "      <td>716057036</td>\n",
       "      <td>2669985</td>\n",
       "      <td>1052038</td>\n",
       "      <td>0</td>\n",
       "    </tr>\n",
       "    <tr>\n",
       "      <th>3</th>\n",
       "      <td>125731133</td>\n",
       "      <td>5966397</td>\n",
       "      <td>0</td>\n",
       "      <td>0</td>\n",
       "    </tr>\n",
       "    <tr>\n",
       "      <th>4</th>\n",
       "      <td>12070864</td>\n",
       "      <td>6788106</td>\n",
       "      <td>9643817</td>\n",
       "      <td>0</td>\n",
       "    </tr>\n",
       "  </tbody>\n",
       "</table>\n",
       "</div>"
      ],
      "text/plain": [
       "    order_id  item_id_1  item_id_2  item_id_3\n",
       "0  314631735    2655227    9051607          0\n",
       "1  802224752    1984910    4286301          0\n",
       "2  716057036    2669985    1052038          0\n",
       "3  125731133    5966397          0          0\n",
       "4   12070864    6788106    9643817          0"
      ]
     },
     "execution_count": 46,
     "metadata": {},
     "output_type": "execute_result"
    }
   ],
   "source": [
    "#check wyslane DT\n",
    "df_wyslane.head()"
   ]
  },
  {
   "cell_type": "code",
   "execution_count": 47,
   "metadata": {},
   "outputs": [],
   "source": [
    "#retrieve the order by item_id solds\n",
    "wyslane_it_1 = df_wyslane[['order_id', 'item_id_1']]\n",
    "wyslane_it_2 = df_wyslane[['order_id', 'item_id_2']]\n",
    "wyslane_it_3 = df_wyslane[['order_id', 'item_id_3']]"
   ]
  },
  {
   "cell_type": "code",
   "execution_count": 48,
   "metadata": {},
   "outputs": [],
   "source": [
    "wyslane_it_1 = wyslane_it_1[wyslane_it_1['item_id_1'] != 0]\n",
    "wyslane_it_2 = wyslane_it_2[wyslane_it_2['item_id_2'] != 0]\n",
    "wyslane_it_3 = wyslane_it_3[wyslane_it_3['item_id_3'] != 0]"
   ]
  },
  {
   "cell_type": "code",
   "execution_count": 49,
   "metadata": {},
   "outputs": [
    {
     "data": {
      "text/html": [
       "<div>\n",
       "<style scoped>\n",
       "    .dataframe tbody tr th:only-of-type {\n",
       "        vertical-align: middle;\n",
       "    }\n",
       "\n",
       "    .dataframe tbody tr th {\n",
       "        vertical-align: top;\n",
       "    }\n",
       "\n",
       "    .dataframe thead th {\n",
       "        text-align: right;\n",
       "    }\n",
       "</style>\n",
       "<table border=\"1\" class=\"dataframe\">\n",
       "  <thead>\n",
       "    <tr style=\"text-align: right;\">\n",
       "      <th></th>\n",
       "      <th>order_id</th>\n",
       "      <th>item_id_3</th>\n",
       "    </tr>\n",
       "  </thead>\n",
       "  <tbody>\n",
       "    <tr>\n",
       "      <th>10</th>\n",
       "      <td>59848447</td>\n",
       "      <td>2655227</td>\n",
       "    </tr>\n",
       "    <tr>\n",
       "      <th>16</th>\n",
       "      <td>137806540</td>\n",
       "      <td>8948103</td>\n",
       "    </tr>\n",
       "    <tr>\n",
       "      <th>87</th>\n",
       "      <td>852730828</td>\n",
       "      <td>2502612</td>\n",
       "    </tr>\n",
       "    <tr>\n",
       "      <th>93</th>\n",
       "      <td>354494585</td>\n",
       "      <td>7706124</td>\n",
       "    </tr>\n",
       "    <tr>\n",
       "      <th>101</th>\n",
       "      <td>152428796</td>\n",
       "      <td>2247054</td>\n",
       "    </tr>\n",
       "    <tr>\n",
       "      <th>...</th>\n",
       "      <td>...</td>\n",
       "      <td>...</td>\n",
       "    </tr>\n",
       "    <tr>\n",
       "      <th>3600</th>\n",
       "      <td>104230078</td>\n",
       "      <td>2350739</td>\n",
       "    </tr>\n",
       "    <tr>\n",
       "      <th>3643</th>\n",
       "      <td>872365392</td>\n",
       "      <td>2565383</td>\n",
       "    </tr>\n",
       "    <tr>\n",
       "      <th>3650</th>\n",
       "      <td>379311060</td>\n",
       "      <td>9897093</td>\n",
       "    </tr>\n",
       "    <tr>\n",
       "      <th>3662</th>\n",
       "      <td>552069972</td>\n",
       "      <td>4169115</td>\n",
       "    </tr>\n",
       "    <tr>\n",
       "      <th>3666</th>\n",
       "      <td>824588700</td>\n",
       "      <td>52730</td>\n",
       "    </tr>\n",
       "  </tbody>\n",
       "</table>\n",
       "<p>358 rows × 2 columns</p>\n",
       "</div>"
      ],
      "text/plain": [
       "       order_id  item_id_3\n",
       "10     59848447    2655227\n",
       "16    137806540    8948103\n",
       "87    852730828    2502612\n",
       "93    354494585    7706124\n",
       "101   152428796    2247054\n",
       "...         ...        ...\n",
       "3600  104230078    2350739\n",
       "3643  872365392    2565383\n",
       "3650  379311060    9897093\n",
       "3662  552069972    4169115\n",
       "3666  824588700      52730\n",
       "\n",
       "[358 rows x 2 columns]"
      ]
     },
     "execution_count": 49,
     "metadata": {},
     "output_type": "execute_result"
    }
   ],
   "source": [
    "wyslane_it_3"
   ]
  },
  {
   "cell_type": "code",
   "execution_count": 50,
   "metadata": {},
   "outputs": [],
   "source": [
    "#group by item_id in order to count the number sold\n",
    "wyslane_it_1 = pd.DataFrame(wyslane_it_1.groupby(['item_id_1'])\n",
    "                              .size(), columns = ['count_1'])\n",
    "wyslane_it_2 = pd.DataFrame(wyslane_it_2.groupby(['item_id_2'])\n",
    "                              .size(), columns = ['count_2'])\n",
    "wyslane_it_3 = pd.DataFrame(wyslane_it_3.groupby(['item_id_3'])\n",
    "                              .size(), columns = ['count_3'])"
   ]
  },
  {
   "cell_type": "code",
   "execution_count": 51,
   "metadata": {},
   "outputs": [
    {
     "data": {
      "text/html": [
       "<div>\n",
       "<style scoped>\n",
       "    .dataframe tbody tr th:only-of-type {\n",
       "        vertical-align: middle;\n",
       "    }\n",
       "\n",
       "    .dataframe tbody tr th {\n",
       "        vertical-align: top;\n",
       "    }\n",
       "\n",
       "    .dataframe thead th {\n",
       "        text-align: right;\n",
       "    }\n",
       "</style>\n",
       "<table border=\"1\" class=\"dataframe\">\n",
       "  <thead>\n",
       "    <tr style=\"text-align: right;\">\n",
       "      <th></th>\n",
       "      <th>count_3</th>\n",
       "    </tr>\n",
       "    <tr>\n",
       "      <th>item_id_3</th>\n",
       "      <th></th>\n",
       "    </tr>\n",
       "  </thead>\n",
       "  <tbody>\n",
       "    <tr>\n",
       "      <th>52730</th>\n",
       "      <td>2</td>\n",
       "    </tr>\n",
       "    <tr>\n",
       "      <th>152614</th>\n",
       "      <td>3</td>\n",
       "    </tr>\n",
       "    <tr>\n",
       "      <th>331250</th>\n",
       "      <td>2</td>\n",
       "    </tr>\n",
       "    <tr>\n",
       "      <th>534353</th>\n",
       "      <td>7</td>\n",
       "    </tr>\n",
       "    <tr>\n",
       "      <th>552870</th>\n",
       "      <td>4</td>\n",
       "    </tr>\n",
       "    <tr>\n",
       "      <th>...</th>\n",
       "      <td>...</td>\n",
       "    </tr>\n",
       "    <tr>\n",
       "      <th>9780720</th>\n",
       "      <td>3</td>\n",
       "    </tr>\n",
       "    <tr>\n",
       "      <th>9813052</th>\n",
       "      <td>7</td>\n",
       "    </tr>\n",
       "    <tr>\n",
       "      <th>9873648</th>\n",
       "      <td>5</td>\n",
       "    </tr>\n",
       "    <tr>\n",
       "      <th>9897093</th>\n",
       "      <td>3</td>\n",
       "    </tr>\n",
       "    <tr>\n",
       "      <th>9989669</th>\n",
       "      <td>3</td>\n",
       "    </tr>\n",
       "  </tbody>\n",
       "</table>\n",
       "<p>106 rows × 1 columns</p>\n",
       "</div>"
      ],
      "text/plain": [
       "           count_3\n",
       "item_id_3         \n",
       "52730            2\n",
       "152614           3\n",
       "331250           2\n",
       "534353           7\n",
       "552870           4\n",
       "...            ...\n",
       "9780720          3\n",
       "9813052          7\n",
       "9873648          5\n",
       "9897093          3\n",
       "9989669          3\n",
       "\n",
       "[106 rows x 1 columns]"
      ]
     },
     "execution_count": 51,
     "metadata": {},
     "output_type": "execute_result"
    }
   ],
   "source": [
    "wyslane_it_3"
   ]
  },
  {
   "cell_type": "code",
   "execution_count": 52,
   "metadata": {},
   "outputs": [],
   "source": [
    "#reset index\n",
    "wyslane_it_1 = wyslane_it_1.reset_index()\n",
    "wyslane_it_2 = wyslane_it_2.reset_index()\n",
    "wyslane_it_3 = wyslane_it_3.reset_index()"
   ]
  },
  {
   "cell_type": "code",
   "execution_count": 53,
   "metadata": {},
   "outputs": [],
   "source": [
    "#merge each DT of item_id with cena DT\n",
    "merge_wyslane_item_1 = pd.merge(wyslane_it_1, df_cena, how = 'left', right_on = 'item_id',\n",
    "                        left_on = 'item_id_1')\n",
    "merge_wyslane_item_2 = pd.merge(wyslane_it_2, df_cena, how = 'left', right_on = 'item_id',\n",
    "                        left_on = 'item_id_2')\n",
    "merge_wyslane_item_3 = pd.merge(wyslane_it_3, df_cena, how = 'left', right_on = 'item_id',\n",
    "                        left_on = 'item_id_3')"
   ]
  },
  {
   "cell_type": "code",
   "execution_count": 54,
   "metadata": {},
   "outputs": [
    {
     "data": {
      "text/html": [
       "<div>\n",
       "<style scoped>\n",
       "    .dataframe tbody tr th:only-of-type {\n",
       "        vertical-align: middle;\n",
       "    }\n",
       "\n",
       "    .dataframe tbody tr th {\n",
       "        vertical-align: top;\n",
       "    }\n",
       "\n",
       "    .dataframe thead th {\n",
       "        text-align: right;\n",
       "    }\n",
       "</style>\n",
       "<table border=\"1\" class=\"dataframe\">\n",
       "  <thead>\n",
       "    <tr style=\"text-align: right;\">\n",
       "      <th></th>\n",
       "      <th>item_id_3</th>\n",
       "      <th>count_3</th>\n",
       "      <th>item_id</th>\n",
       "      <th>base_price</th>\n",
       "    </tr>\n",
       "  </thead>\n",
       "  <tbody>\n",
       "    <tr>\n",
       "      <th>0</th>\n",
       "      <td>52730</td>\n",
       "      <td>2</td>\n",
       "      <td>52730</td>\n",
       "      <td>205</td>\n",
       "    </tr>\n",
       "    <tr>\n",
       "      <th>1</th>\n",
       "      <td>152614</td>\n",
       "      <td>3</td>\n",
       "      <td>152614</td>\n",
       "      <td>145</td>\n",
       "    </tr>\n",
       "    <tr>\n",
       "      <th>2</th>\n",
       "      <td>331250</td>\n",
       "      <td>2</td>\n",
       "      <td>331250</td>\n",
       "      <td>183</td>\n",
       "    </tr>\n",
       "    <tr>\n",
       "      <th>3</th>\n",
       "      <td>534353</td>\n",
       "      <td>7</td>\n",
       "      <td>534353</td>\n",
       "      <td>78</td>\n",
       "    </tr>\n",
       "    <tr>\n",
       "      <th>4</th>\n",
       "      <td>552870</td>\n",
       "      <td>4</td>\n",
       "      <td>552870</td>\n",
       "      <td>242</td>\n",
       "    </tr>\n",
       "    <tr>\n",
       "      <th>...</th>\n",
       "      <td>...</td>\n",
       "      <td>...</td>\n",
       "      <td>...</td>\n",
       "      <td>...</td>\n",
       "    </tr>\n",
       "    <tr>\n",
       "      <th>101</th>\n",
       "      <td>9780720</td>\n",
       "      <td>3</td>\n",
       "      <td>9780720</td>\n",
       "      <td>132</td>\n",
       "    </tr>\n",
       "    <tr>\n",
       "      <th>102</th>\n",
       "      <td>9813052</td>\n",
       "      <td>7</td>\n",
       "      <td>9813052</td>\n",
       "      <td>211</td>\n",
       "    </tr>\n",
       "    <tr>\n",
       "      <th>103</th>\n",
       "      <td>9873648</td>\n",
       "      <td>5</td>\n",
       "      <td>9873648</td>\n",
       "      <td>153</td>\n",
       "    </tr>\n",
       "    <tr>\n",
       "      <th>104</th>\n",
       "      <td>9897093</td>\n",
       "      <td>3</td>\n",
       "      <td>9897093</td>\n",
       "      <td>202</td>\n",
       "    </tr>\n",
       "    <tr>\n",
       "      <th>105</th>\n",
       "      <td>9989669</td>\n",
       "      <td>3</td>\n",
       "      <td>9989669</td>\n",
       "      <td>206</td>\n",
       "    </tr>\n",
       "  </tbody>\n",
       "</table>\n",
       "<p>106 rows × 4 columns</p>\n",
       "</div>"
      ],
      "text/plain": [
       "     item_id_3  count_3  item_id  base_price\n",
       "0        52730        2    52730         205\n",
       "1       152614        3   152614         145\n",
       "2       331250        2   331250         183\n",
       "3       534353        7   534353          78\n",
       "4       552870        4   552870         242\n",
       "..         ...      ...      ...         ...\n",
       "101    9780720        3  9780720         132\n",
       "102    9813052        7  9813052         211\n",
       "103    9873648        5  9873648         153\n",
       "104    9897093        3  9897093         202\n",
       "105    9989669        3  9989669         206\n",
       "\n",
       "[106 rows x 4 columns]"
      ]
     },
     "execution_count": 54,
     "metadata": {},
     "output_type": "execute_result"
    }
   ],
   "source": [
    "merge_wyslane_item_3"
   ]
  },
  {
   "cell_type": "code",
   "execution_count": 55,
   "metadata": {},
   "outputs": [],
   "source": [
    "#calculate the total price for each item_id in each DT\n",
    "merge_wyslane_item_1['total'] = merge_wyslane_item_1['count_1'] * merge_wyslane_item_1['base_price']\n",
    "merge_wyslane_item_2['total'] = merge_wyslane_item_2['count_2'] * merge_wyslane_item_2['base_price']\n",
    "merge_wyslane_item_3['total'] = merge_wyslane_item_3['count_3'] * merge_wyslane_item_3['base_price']\n"
   ]
  },
  {
   "cell_type": "code",
   "execution_count": 56,
   "metadata": {},
   "outputs": [],
   "source": [
    "#compute the total of all DT\n",
    "total = merge_wyslane_item_1['total'].sum() + merge_wyslane_item_2['total'].sum() + merge_wyslane_item_3['total'].sum()"
   ]
  },
  {
   "cell_type": "code",
   "execution_count": 57,
   "metadata": {},
   "outputs": [
    {
     "data": {
      "text/plain": [
       "838391"
      ]
     },
     "execution_count": 57,
     "metadata": {},
     "output_type": "execute_result"
    }
   ],
   "source": [
    "total #answer 6"
   ]
  },
  {
   "cell_type": "markdown",
   "metadata": {},
   "source": [
    "#### ZADANIE 2 "
   ]
  },
  {
   "cell_type": "markdown",
   "metadata": {},
   "source": [
    "###### W pliku predykcja.csv znajdują się dane o liczbie zamówień w okresie 01.01.2018 – 01.01.2020.  w kolumnie wyprzedaż oznaczono okresy wyprzedaży. Użyj wybranego modelu, żeby zaprognozować sprzedaż w styczniu i lutym 2020. \n",
    "    Jak zmieniłaby się Twoja predykcja, gdybyś wiedział(a), że w dniach 01.02.2020 – 07.02.2020 planowana jest wyprzedaż?\n",
    "    Jako rozwiązanie proszę o przesłanie szacowanej liczby zamówień za styczeń i luty 2020 przy założeniu wyprzedaży w lutym i bez wyprzedaży oraz informacje o krokach analizy i wybranym modelu. "
   ]
  },
  {
   "cell_type": "code",
   "execution_count": 126,
   "metadata": {},
   "outputs": [],
   "source": [
    "df_predykcja  = pd.read_csv('predykcja.csv', sep =';')"
   ]
  },
  {
   "cell_type": "code",
   "execution_count": 127,
   "metadata": {},
   "outputs": [],
   "source": [
    "df_predykcja = df_predykcja[:730]"
   ]
  },
  {
   "cell_type": "code",
   "execution_count": 128,
   "metadata": {},
   "outputs": [
    {
     "data": {
      "text/plain": [
       "730"
      ]
     },
     "execution_count": 128,
     "metadata": {},
     "output_type": "execute_result"
    }
   ],
   "source": [
    "len(df_predykcja)"
   ]
  },
  {
   "cell_type": "code",
   "execution_count": 129,
   "metadata": {},
   "outputs": [
    {
     "data": {
      "text/plain": [
       "Index(['DATA', 'zamowienia', 'wyprzedaż'], dtype='object')"
      ]
     },
     "execution_count": 129,
     "metadata": {},
     "output_type": "execute_result"
    }
   ],
   "source": [
    "df_predykcja.columns"
   ]
  },
  {
   "cell_type": "code",
   "execution_count": 130,
   "metadata": {},
   "outputs": [],
   "source": [
    "df_predykcja['wyprzedaż'] = df_predykcja.wyprzedaż.fillna(0)"
   ]
  },
  {
   "cell_type": "code",
   "execution_count": 131,
   "metadata": {},
   "outputs": [],
   "source": [
    "df_predykcja['zamowienia'] = pd.to_numeric(df_predykcja['zamowienia'], downcast = 'integer')\n",
    "df_predykcja['wyprzedaż'] = pd.to_numeric(df_predykcja['wyprzedaż'], downcast = 'integer')\n",
    "#df_wyslane['item_id_3'] = pd.to_numeric(df_wyslane['item_id_3'], downcast = 'integer')"
   ]
  },
  {
   "cell_type": "code",
   "execution_count": 132,
   "metadata": {},
   "outputs": [],
   "source": [
    "df_predykcja['DATA'] = df_predykcja['DATA'].astype('datetime64[ns]')"
   ]
  },
  {
   "cell_type": "code",
   "execution_count": 133,
   "metadata": {},
   "outputs": [
    {
     "data": {
      "text/plain": [
       "dtype('<M8[ns]')"
      ]
     },
     "execution_count": 133,
     "metadata": {},
     "output_type": "execute_result"
    }
   ],
   "source": [
    "df_predykcja['DATA'].dtypes"
   ]
  },
  {
   "cell_type": "code",
   "execution_count": 134,
   "metadata": {},
   "outputs": [
    {
     "name": "stdout",
     "output_type": "stream",
     "text": [
      "<class 'pandas.core.frame.DataFrame'>\n",
      "RangeIndex: 730 entries, 0 to 729\n",
      "Data columns (total 3 columns):\n",
      " #   Column      Non-Null Count  Dtype         \n",
      "---  ------      --------------  -----         \n",
      " 0   DATA        730 non-null    datetime64[ns]\n",
      " 1   zamowienia  730 non-null    int16         \n",
      " 2   wyprzedaż   730 non-null    int8          \n",
      "dtypes: datetime64[ns](1), int16(1), int8(1)\n",
      "memory usage: 8.0 KB\n"
     ]
    }
   ],
   "source": [
    "df_predykcja.info()"
   ]
  },
  {
   "cell_type": "code",
   "execution_count": 135,
   "metadata": {},
   "outputs": [
    {
     "data": {
      "text/html": [
       "<div>\n",
       "<style scoped>\n",
       "    .dataframe tbody tr th:only-of-type {\n",
       "        vertical-align: middle;\n",
       "    }\n",
       "\n",
       "    .dataframe tbody tr th {\n",
       "        vertical-align: top;\n",
       "    }\n",
       "\n",
       "    .dataframe thead th {\n",
       "        text-align: right;\n",
       "    }\n",
       "</style>\n",
       "<table border=\"1\" class=\"dataframe\">\n",
       "  <thead>\n",
       "    <tr style=\"text-align: right;\">\n",
       "      <th></th>\n",
       "      <th>DATA</th>\n",
       "      <th>zamowienia</th>\n",
       "      <th>wyprzedaż</th>\n",
       "    </tr>\n",
       "  </thead>\n",
       "  <tbody>\n",
       "    <tr>\n",
       "      <th>0</th>\n",
       "      <td>2018-01-01</td>\n",
       "      <td>100</td>\n",
       "      <td>0</td>\n",
       "    </tr>\n",
       "    <tr>\n",
       "      <th>1</th>\n",
       "      <td>2018-02-01</td>\n",
       "      <td>94</td>\n",
       "      <td>0</td>\n",
       "    </tr>\n",
       "    <tr>\n",
       "      <th>2</th>\n",
       "      <td>2018-03-01</td>\n",
       "      <td>118</td>\n",
       "      <td>1</td>\n",
       "    </tr>\n",
       "    <tr>\n",
       "      <th>3</th>\n",
       "      <td>2018-04-01</td>\n",
       "      <td>114</td>\n",
       "      <td>1</td>\n",
       "    </tr>\n",
       "    <tr>\n",
       "      <th>4</th>\n",
       "      <td>2018-05-01</td>\n",
       "      <td>122</td>\n",
       "      <td>1</td>\n",
       "    </tr>\n",
       "  </tbody>\n",
       "</table>\n",
       "</div>"
      ],
      "text/plain": [
       "        DATA  zamowienia  wyprzedaż\n",
       "0 2018-01-01         100          0\n",
       "1 2018-02-01          94          0\n",
       "2 2018-03-01         118          1\n",
       "3 2018-04-01         114          1\n",
       "4 2018-05-01         122          1"
      ]
     },
     "execution_count": 135,
     "metadata": {},
     "output_type": "execute_result"
    }
   ],
   "source": [
    "df_predykcja.head()"
   ]
  },
  {
   "cell_type": "code",
   "execution_count": 136,
   "metadata": {},
   "outputs": [],
   "source": [
    "df_predykcja['day'] = df_predykcja['DATA'].dt.day\n",
    "df_predykcja['month'] = df_predykcja['DATA'].dt.month\n",
    "df_predykcja['year'] = df_predykcja['DATA'].dt.year"
   ]
  },
  {
   "cell_type": "code",
   "execution_count": 137,
   "metadata": {},
   "outputs": [
    {
     "data": {
      "text/html": [
       "<div>\n",
       "<style scoped>\n",
       "    .dataframe tbody tr th:only-of-type {\n",
       "        vertical-align: middle;\n",
       "    }\n",
       "\n",
       "    .dataframe tbody tr th {\n",
       "        vertical-align: top;\n",
       "    }\n",
       "\n",
       "    .dataframe thead th {\n",
       "        text-align: right;\n",
       "    }\n",
       "</style>\n",
       "<table border=\"1\" class=\"dataframe\">\n",
       "  <thead>\n",
       "    <tr style=\"text-align: right;\">\n",
       "      <th></th>\n",
       "      <th>DATA</th>\n",
       "      <th>zamowienia</th>\n",
       "      <th>wyprzedaż</th>\n",
       "      <th>day</th>\n",
       "      <th>month</th>\n",
       "      <th>year</th>\n",
       "    </tr>\n",
       "  </thead>\n",
       "  <tbody>\n",
       "    <tr>\n",
       "      <th>0</th>\n",
       "      <td>2018-01-01</td>\n",
       "      <td>100</td>\n",
       "      <td>0</td>\n",
       "      <td>1</td>\n",
       "      <td>1</td>\n",
       "      <td>2018</td>\n",
       "    </tr>\n",
       "    <tr>\n",
       "      <th>1</th>\n",
       "      <td>2018-02-01</td>\n",
       "      <td>94</td>\n",
       "      <td>0</td>\n",
       "      <td>1</td>\n",
       "      <td>2</td>\n",
       "      <td>2018</td>\n",
       "    </tr>\n",
       "    <tr>\n",
       "      <th>2</th>\n",
       "      <td>2018-03-01</td>\n",
       "      <td>118</td>\n",
       "      <td>1</td>\n",
       "      <td>1</td>\n",
       "      <td>3</td>\n",
       "      <td>2018</td>\n",
       "    </tr>\n",
       "    <tr>\n",
       "      <th>3</th>\n",
       "      <td>2018-04-01</td>\n",
       "      <td>114</td>\n",
       "      <td>1</td>\n",
       "      <td>1</td>\n",
       "      <td>4</td>\n",
       "      <td>2018</td>\n",
       "    </tr>\n",
       "    <tr>\n",
       "      <th>4</th>\n",
       "      <td>2018-05-01</td>\n",
       "      <td>122</td>\n",
       "      <td>1</td>\n",
       "      <td>1</td>\n",
       "      <td>5</td>\n",
       "      <td>2018</td>\n",
       "    </tr>\n",
       "  </tbody>\n",
       "</table>\n",
       "</div>"
      ],
      "text/plain": [
       "        DATA  zamowienia  wyprzedaż  day  month  year\n",
       "0 2018-01-01         100          0    1      1  2018\n",
       "1 2018-02-01          94          0    1      2  2018\n",
       "2 2018-03-01         118          1    1      3  2018\n",
       "3 2018-04-01         114          1    1      4  2018\n",
       "4 2018-05-01         122          1    1      5  2018"
      ]
     },
     "execution_count": 137,
     "metadata": {},
     "output_type": "execute_result"
    }
   ],
   "source": [
    "df_predykcja.head()"
   ]
  },
  {
   "cell_type": "code",
   "execution_count": 138,
   "metadata": {},
   "outputs": [],
   "source": [
    "X = df_predykcja[['day', 'month', 'year', 'wyprzedaż']]"
   ]
  },
  {
   "cell_type": "code",
   "execution_count": 139,
   "metadata": {},
   "outputs": [],
   "source": [
    "y = df_predykcja['zamowienia']"
   ]
  },
  {
   "cell_type": "code",
   "execution_count": 140,
   "metadata": {},
   "outputs": [
    {
     "name": "stdout",
     "output_type": "stream",
     "text": [
      "(730, 4)\n",
      "(730,)\n"
     ]
    }
   ],
   "source": [
    "print(X.shape)\n",
    "print(y.shape)"
   ]
  },
  {
   "cell_type": "code",
   "execution_count": 141,
   "metadata": {},
   "outputs": [],
   "source": [
    "from sklearn.model_selection import train_test_split\n",
    "from sklearn.linear_model import LinearRegression\n",
    "\n"
   ]
  },
  {
   "cell_type": "code",
   "execution_count": 142,
   "metadata": {},
   "outputs": [],
   "source": [
    "X_train, X_test, y_train, y_test = train_test_split(X, y)"
   ]
  },
  {
   "cell_type": "code",
   "execution_count": 143,
   "metadata": {},
   "outputs": [],
   "source": [
    "linreg = LinearRegression().fit(X_train, y_train)"
   ]
  },
  {
   "cell_type": "code",
   "execution_count": 144,
   "metadata": {},
   "outputs": [],
   "source": [
    "y_pred = linreg.predict(X_test)"
   ]
  },
  {
   "cell_type": "code",
   "execution_count": 145,
   "metadata": {},
   "outputs": [],
   "source": [
    "from sklearn import metrics\n",
    "\n"
   ]
  },
  {
   "cell_type": "code",
   "execution_count": 146,
   "metadata": {},
   "outputs": [
    {
     "data": {
      "text/plain": [
       "39.53187995639158"
      ]
     },
     "execution_count": 146,
     "metadata": {},
     "output_type": "execute_result"
    }
   ],
   "source": [
    "metrics.mean_absolute_error(y_test, y_pred)"
   ]
  },
  {
   "cell_type": "code",
   "execution_count": 147,
   "metadata": {},
   "outputs": [
    {
     "data": {
      "text/plain": [
       "2157.0629953660477"
      ]
     },
     "execution_count": 147,
     "metadata": {},
     "output_type": "execute_result"
    }
   ],
   "source": [
    "metrics.mean_squared_error(y_test, y_pred)"
   ]
  },
  {
   "cell_type": "code",
   "execution_count": 148,
   "metadata": {},
   "outputs": [
    {
     "data": {
      "text/plain": [
       "array([ 0.92109806,  4.06516929, 41.97458005, 17.66952435])"
      ]
     },
     "execution_count": 148,
     "metadata": {},
     "output_type": "execute_result"
    }
   ],
   "source": [
    "linreg.coef_"
   ]
  },
  {
   "cell_type": "code",
   "execution_count": 149,
   "metadata": {},
   "outputs": [
    {
     "data": {
      "text/plain": [
       "-84602.40424259863"
      ]
     },
     "execution_count": 149,
     "metadata": {},
     "output_type": "execute_result"
    }
   ],
   "source": [
    "linreg.intercept_"
   ]
  },
  {
   "cell_type": "code",
   "execution_count": 85,
   "metadata": {},
   "outputs": [],
   "source": [
    "#just for creating a time interval\n",
    "from datetime import date, timedelta\n",
    "start_date = date(2020, 2, 2)\n",
    "end_date = date (2020, 2, 7)"
   ]
  },
  {
   "cell_type": "code",
   "execution_count": 86,
   "metadata": {},
   "outputs": [],
   "source": [
    "list_days = pd.date_range(start_date, end_date, freq = 'd')"
   ]
  },
  {
   "cell_type": "code",
   "execution_count": 87,
   "metadata": {},
   "outputs": [
    {
     "data": {
      "text/plain": [
       "DatetimeIndex(['2020-02-02', '2020-02-03', '2020-02-04', '2020-02-05',\n",
       "               '2020-02-06', '2020-02-07'],\n",
       "              dtype='datetime64[ns]', freq='D')"
      ]
     },
     "execution_count": 87,
     "metadata": {},
     "output_type": "execute_result"
    }
   ],
   "source": [
    "list_days"
   ]
  },
  {
   "cell_type": "code",
   "execution_count": 154,
   "metadata": {},
   "outputs": [
    {
     "data": {
      "text/plain": [
       "[<matplotlib.lines.Line2D at 0x7fa64b57ec50>]"
      ]
     },
     "execution_count": 154,
     "metadata": {},
     "output_type": "execute_result"
    },
    {
     "data": {
      "image/png": "[encoded data removed]",
      "text/plain": [
       "<Figure size 432x288 with 1 Axes>"
      ]
     },
     "metadata": {
      "needs_background": "light"
     },
     "output_type": "display_data"
    }
   ],
   "source": [
    "import matplotlib.pyplot as plt\n",
    "\n",
    "plt.figure()\n",
    "plt.plot(df_predykcja['zamowienia'])"
   ]
  },
  {
   "cell_type": "code",
   "execution_count": null,
   "metadata": {},
   "outputs": [],
   "source": []
  }
 ],
 "metadata": {
  "kernelspec": {
   "display_name": "Python 3",
   "language": "python",
   "name": "python3"
  },
  "language_info": {
   "codemirror_mode": {
    "name": "ipython",
    "version": 3
   },
   "file_extension": ".py",
   "mimetype": "text/x-python",
   "name": "python",
   "nbconvert_exporter": "python",
   "pygments_lexer": "ipython3",
   "version": "3.6.9"
  }
 },
 "nbformat": 4,
 "nbformat_minor": 4
}
